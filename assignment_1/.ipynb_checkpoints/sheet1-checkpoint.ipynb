{
 "cells": [
  {
   "cell_type": "markdown",
   "metadata": {},
   "source": [
    "# Exercise Sheet 1: Python Basics\n",
    "\n",
    "This first  exercise sheet tests the basic functionalities of the Python programming language in the context of a simple prediction task. We consider the problem of predicting health risk of subjects from personal data and habits. We first use for this task a decision tree\n",
    "\n",
    "![](tree.png)\n",
    "\n",
    "adapted from the webpage http://www.refactorthis.net/post/2013/04/10/Machine-Learning-tutorial-How-to-create-a-decision-tree-in-RapidMiner-using-the-Titanic-passenger-data-set.aspx. For this exercise sheet, you are required to use only pure Python, and to not import any module, including numpy. In exercise sheet 2, the nearest neighbor part of this exercise sheet will be revisited with numpy."
   ]
  },
  {
   "cell_type": "markdown",
   "metadata": {},
   "source": [
    "## Classifying a single instance (15 P)\n",
    "\n",
    "* Create a function that takes as input a tuple containing values for attributes (smoker,age,diet), and computes the output of the decision tree.\n",
    "* Test your function on the tuple `('yes',31,'good')`,"
   ]
  },
  {
   "cell_type": "code",
   "execution_count": 2,
   "metadata": {},
   "outputs": [
    {
     "data": {
      "text/plain": [
       "'more'"
      ]
     },
     "execution_count": 2,
     "metadata": {},
     "output_type": "execute_result"
    }
   ],
   "source": [
    "### Replace by your own code\n",
    "test = (\"yes\", 31, \"good\")\n",
    "def decision_tree(doe):\n",
    "    if doe[0] == \"yes\":\n",
    "        if doe[1] > 29.5:\n",
    "            return \"more\"\n",
    "        else:\n",
    "            return \"less\"\n",
    "    else:\n",
    "        if doe[2] == \"poor\":\n",
    "            return \"more\"\n",
    "        else:\n",
    "            return \"less\"     \n",
    "decision_tree(test)  \n",
    "###"
   ]
  },
  {
   "cell_type": "markdown",
   "metadata": {},
   "source": [
    "## Reading a dataset from a text file (10 P)\n",
    "\n",
    "The file `health-test.txt` contains several fictious records of personal data and habits.\n",
    "\n",
    "* Read the file automatically using the methods introduced during the lecture.\n",
    "* Represent the dataset as a list of tuples."
   ]
  },
  {
   "cell_type": "code",
   "execution_count": 3,
   "metadata": {
    "scrolled": true
   },
   "outputs": [
    {
     "name": "stdout",
     "output_type": "stream",
     "text": [
      "[('yes', 21, 'poor'), ('no', 50, 'good'), ('no', 23, 'good'), ('yes', 45, 'poor'), ('yes', 51, 'good'), ('no', 60, 'good'), ('no', 15, 'poor'), ('no', 18, 'good')]\n"
     ]
    }
   ],
   "source": [
    "### Replace by your own code\n",
    "file = open('health-test.txt', 'r')\n",
    "test_set = [(x.split(\",\")[0], int(x.split(\",\")[1]), x.split(\",\")[2][:-1])  for x in file]\n",
    "print test_set\n",
    "###"
   ]
  },
  {
   "cell_type": "markdown",
   "metadata": {},
   "source": [
    "## Applying the decision tree to the dataset (15 P)\n",
    "\n",
    "* Apply the decision tree to all points in the dataset, and compute the percentage of them that are classified as \"more risk\"."
   ]
  },
  {
   "cell_type": "code",
   "execution_count": 4,
   "metadata": {},
   "outputs": [
    {
     "name": "stdout",
     "output_type": "stream",
     "text": [
      "37.5%\n"
     ]
    }
   ],
   "source": [
    "### Replace by your own code\n",
    "m_risk = 1.*len([x for x in test_set if decision_tree(x) == \"more\"])/len(test_set) * 100\n",
    "print str(m_risk) + '%'\n",
    "###"
   ]
  },
  {
   "cell_type": "markdown",
   "metadata": {},
   "source": [
    "## Learning from examples (10 P)\n",
    "\n",
    "Suppose that instead of relying on a fixed decision tree, we would like to use a data-driven approach where data points are classified based on a set of training observations manually labeled by experts. Such labeled dataset is available in the file `health-train.txt`. The first three columns have the same meaning than for `health-test.txt`, and the last column corresponds to the labels.\n",
    "\n",
    "* Write a procedure that reads this file and converts it into a list of pairs. The first element of each pair is a triplet of attributes, and the second element is the label."
   ]
  },
  {
   "cell_type": "code",
   "execution_count": 5,
   "metadata": {},
   "outputs": [
    {
     "name": "stdout",
     "output_type": "stream",
     "text": [
      "[(('yes', 54, 'good'), 'less'), (('no', 55, 'good'), 'less'), (('no', 26, 'good'), 'less'), (('yes', 40, 'good'), 'more'), (('yes', 25, 'poor'), 'less'), (('no', 13, 'poor'), 'more'), (('no', 15, 'good'), 'less'), (('no', 50, 'poor'), 'more'), (('yes', 33, 'good'), 'more'), (('no', 35, 'good'), 'less'), (('no', 41, 'good'), 'less'), (('yes', 30, 'poor'), 'more'), (('no', 39, 'poor'), 'more'), (('no', 20, 'good'), 'less'), (('yes', 18, 'poor'), 'less'), (('yes', 55, 'good'), 'more')]\n"
     ]
    }
   ],
   "source": [
    "### Replace by your own code\n",
    "file = open('health-train.txt', 'r')\n",
    "train_set = [((x.split(\",\")[0], int(x.split(\",\")[1]), x.split(\",\")[2]), x.split(\",\")[3][:-1])  for x in file]\n",
    "print train_set\n",
    "###"
   ]
  },
  {
   "cell_type": "markdown",
   "metadata": {},
   "source": [
    "## Nearest neighbor classifier (25 P)\n",
    "\n",
    "We consider the nearest neighbor algorithm that classifies test points following the label of the nearest neighbor in the training data. For this, we need to define a distance function between data points. We define it to be\n",
    "\n",
    "`d(a,b) = (a[0]!=b[0])+((a[1]-b[1])/50.0)**2+(a[2]!=b[2])`\n",
    "\n",
    "where `a` and `b` are two tuples corrsponding to the attributes of two data points.\n",
    "\n",
    "* Write a function that retrieves for a test point the nearest neighbor in the training set, and classifies the test point accordingly.\n",
    "* Test your function on the tuple `('yes',31,'good')`"
   ]
  },
  {
   "cell_type": "code",
   "execution_count": 6,
   "metadata": {},
   "outputs": [
    {
     "data": {
      "text/plain": [
       "'more'"
      ]
     },
     "execution_count": 6,
     "metadata": {},
     "output_type": "execute_result"
    }
   ],
   "source": [
    "### Replace by your own code\n",
    "def dist(a, b):\n",
    "    return (a[0]!=b[0])+((a[1]-b[1])/50.0)**2+(a[2]!=b[2])\n",
    "\n",
    "def nearest_neighbor(doe):\n",
    "    bff = min([(dist(doe, x),y) for (x, y) in train_set])\n",
    "    return bff[1]\n",
    "\n",
    "nearest_neighbor(test)\n",
    "\n",
    "###"
   ]
  },
  {
   "cell_type": "markdown",
   "metadata": {},
   "source": [
    "* Apply both the decision tree and nearest neighbor classifiers on the test set, and find the data point(s) for which the two classifiers disagree, and the fraction of the time it happens."
   ]
  },
  {
   "cell_type": "code",
   "execution_count": 7,
   "metadata": {},
   "outputs": [
    {
     "name": "stdout",
     "output_type": "stream",
     "text": [
      "0.125\n"
     ]
    }
   ],
   "source": [
    "### Replace by your own code\n",
    "agreements = [x for x in test_set if nearest_neighbor(x) == decision_tree(x)]\n",
    "a_percentage = 1.*len(agreements) / len(test_set)\n",
    "print 1-a_percentage\n",
    "###"
   ]
  },
  {
   "cell_type": "markdown",
   "metadata": {},
   "source": [
    "One problem of simple nearest neighbors is that one needs to compare the point to predict to all data points in the training set. This can be slow for datasets of thousands of points or more. Alternatively, some classifiers train a model first, and then use it to classify the data.\n",
    "\n",
    "## Nearest mean classifier (25 P)\n",
    "\n",
    "We consider one such trainable model, which operates in two steps:\n",
    "\n",
    "(1) Compute the average point for each class, (2) classify new points to be of the class whose average point is nearest to the point to predict.\n",
    "\n",
    "For this classifier, we convert the attributes smoker and diet to real values (for smoker: yes=1.0 and no=0.0, and for diet: good=0.0 and poor=1.0), and use the modified distance function:\n",
    "\n",
    "`d(a,b) = (a[0]-b[0])**2+((a[1]-b[1])/50.0)**2+(a[2]-b[2])**2`\n",
    "\n",
    "We adopt an object-oriented approach for building this classifier.\n",
    "\n",
    "* Implement the methods `train` and `predict` of the class `NearestMeanClassifier`."
   ]
  },
  {
   "cell_type": "code",
   "execution_count": 32,
   "metadata": {},
   "outputs": [
    {
     "data": {
      "text/plain": [
       "3"
      ]
     },
     "execution_count": 32,
     "metadata": {},
     "output_type": "execute_result"
    }
   ],
   "source": [
    "import numpy as np \n",
    "np.array([1,2,3]).mean()\n",
    "('yes', 54, 'good')[:2]\n",
    "sum([True, 2==2, 4==2+2, 1==1+1])"
   ]
  },
  {
   "cell_type": "code",
   "execution_count": 59,
   "metadata": {
    "collapsed": true
   },
   "outputs": [],
   "source": [
    "def modified_dist(a, b):\n",
    "    return (a[0]-b[0])**2+((a[1]-b[1])/50.0)**2+(a[2]-b[2])**2\n",
    "def numerical_form(x):\n",
    "    y = [0, 0, 0]\n",
    "    y[1] = x[1] / 50.0\n",
    "    if x[0] == 'yes':\n",
    "        y[0] = 1\n",
    "    if x[2] == 'poor':\n",
    "        y[2] = 1\n",
    "    return tuple(y)\n",
    "\n",
    "class NearestMeanClassifier:\n",
    "    \n",
    "    # Training method that takes as input a dataset\n",
    "    # and produces two internal vectors corresponding\n",
    "    # to the mean of each class.\n",
    "    def train(self,dataset):\n",
    "        l_train_set = [x for x in dataset if x[1]=='less']\n",
    "        less_point = [0, 0, 0]\n",
    "        less_point[0] = 1.*sum([x[0] == 'yes' for (x,y) in l_train_set]) / len(l_train_set)\n",
    "        less_point[1] = 1.*sum([x[1] for (x,y) in l_train_set]) / len(l_train_set)\n",
    "        less_point[2] = 1.*sum([x[2] == 'poor' for (x,y) in l_train_set]) / len(l_train_set)\n",
    "        \n",
    "        m_train_set = [x for x in dataset if x[1]=='more']\n",
    "        more_point = [0, 0, 0]\n",
    "        more_point[0] = 1.*sum([x[0] == 'yes' for (x,y) in m_train_set]) / len(m_train_set)\n",
    "        more_point[1] = 1.*sum([x[1] for (x,y) in m_train_set]) / len(m_train_set)\n",
    "        more_point[2] = 1.*sum([x[2] == 'poor' for (x,y) in m_train_set]) / len(m_train_set)\n",
    "        \n",
    "        self.less_point = tuple(less_point)\n",
    "        self.more_point = tuple(more_point)\n",
    "        \n",
    "        self.mean_less = np.array([numerical_form(x) for (x,y) in dataset if y =='less']).mean() \n",
    "        self.mean_more = np.array([numerical_form(x) for (x,y) in dataset if y =='more']).mean()\n",
    "        pass\n",
    "    # Prediction method that takes as input a new data\n",
    "    # point and predicts it to belong to the class with\n",
    "    # nearest mean.\n",
    "    def predict(self,x):\n",
    "        ### Replace by your own code\n",
    "        if modified_dist(numerical_form(x), self.less_point) > modified_dist(numerical_form(x), self.more_point):\n",
    "            return 'more'\n",
    "        return 'less'\n",
    "        ###"
   ]
  },
  {
   "cell_type": "code",
   "execution_count": 60,
   "metadata": {},
   "outputs": [
    {
     "data": {
      "text/plain": [
       "0.39925925925925926"
      ]
     },
     "execution_count": 60,
     "metadata": {},
     "output_type": "execute_result"
    }
   ],
   "source": [
    "x = NearestMeanClassifier()\n",
    "x.train(train_set)\n",
    "x.mean_less\n",
    "#x.m_point"
   ]
  },
  {
   "cell_type": "markdown",
   "metadata": {},
   "source": [
    "* Build an object of class `NearestMeanClassifier`, train it on the training data, and print the mean vector for each class."
   ]
  },
  {
   "cell_type": "code",
   "execution_count": 61,
   "metadata": {},
   "outputs": [
    {
     "name": "stdout",
     "output_type": "stream",
     "text": [
      "less mean point:  (0.3333333333333333, 32.111111111111114, 0.2222222222222222)\n",
      "more mean point:  (0.5714285714285714, 37.142857142857146, 0.5714285714285714)\n"
     ]
    }
   ],
   "source": [
    "### Replace by your own code\n",
    "nmc = NearestMeanClassifier()\n",
    "nmc.train(train_set)\n",
    "print 'less mean point: ', nmc.less_point\n",
    "print 'more mean point: ', nmc.more_point\n",
    "###"
   ]
  },
  {
   "cell_type": "markdown",
   "metadata": {},
   "source": [
    "* Predict the test data using the nearest mean classifier and print all test examples for which all three classifiers (decision tree, nearest neighbor and nearest mean) agree."
   ]
  },
  {
   "cell_type": "code",
   "execution_count": 64,
   "metadata": {},
   "outputs": [
    {
     "name": "stdout",
     "output_type": "stream",
     "text": [
      "[('no', 50, 'good'), ('no', 23, 'good'), ('yes', 45, 'poor'), ('no', 60, 'good'), ('no', 15, 'poor'), ('no', 18, 'good')]\n",
      "0.75\n"
     ]
    }
   ],
   "source": [
    "### Replace by your own code\n",
    "agreements = [x for x in test_set if nmc.predict(x) == nearest_neighbor(x) and nearest_neighbor(x) == decision_tree(x)]\n",
    "print agreements\n",
    "#print [nearest_neighbor(x) for x in test_set]\n",
    "#print [nmc.predict(x) for x in test_set]\n",
    "a_percentage = 1.*len(agreements) / len(test_set)\n",
    "print a_percentage\n",
    "#print test_set\n",
    "###"
   ]
  },
  {
   "cell_type": "code",
   "execution_count": null,
   "metadata": {
    "collapsed": true
   },
   "outputs": [],
   "source": []
  }
 ],
 "metadata": {
  "kernelspec": {
   "display_name": "Python 2",
   "language": "python",
   "name": "python2"
  },
  "language_info": {
   "codemirror_mode": {
    "name": "ipython",
    "version": 2
   },
   "file_extension": ".py",
   "mimetype": "text/x-python",
   "name": "python",
   "nbconvert_exporter": "python",
   "pygments_lexer": "ipython2",
   "version": "2.7.12"
  }
 },
 "nbformat": 4,
 "nbformat_minor": 1
}
